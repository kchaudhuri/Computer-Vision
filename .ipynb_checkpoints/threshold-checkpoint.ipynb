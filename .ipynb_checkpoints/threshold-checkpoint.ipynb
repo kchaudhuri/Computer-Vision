{
 "cells": [
  {
   "cell_type": "code",
   "execution_count": 1,
   "metadata": {},
   "outputs": [],
   "source": [
    "import numpy as np\n",
    "import cv2"
   ]
  },
  {
   "cell_type": "code",
   "execution_count": 2,
   "metadata": {},
   "outputs": [],
   "source": [
    "bw = cv2.imread('detect_blob.png', 0)\n",
    "height, width = bw.shape[0:2]\n",
    "cv2.imshow(\"Original BW\",bw)\n",
    "\n",
    "binary = np.zeros([height,width,1],'uint8')\n",
    "\n",
    "thresh = 85\n",
    "\n",
    "for row in range(0,height):\n",
    "    for col in range(0, width):\n",
    "        if bw[row][col]>thresh:\n",
    "            binary[row][col]=255\n",
    "\n",
    "cv2.imshow(\"Slow Binary\",binary)\n",
    "\n",
    "ret, thresh = cv2.threshold(bw,thresh,255,cv2.THRESH_BINARY)\n",
    "cv2.imshow(\"CV Threshold\",thresh)\n",
    "\n",
    "cv2.waitKey(0)\n",
    "cv2.destroyAllWindows()"
   ]
  },
  {
   "cell_type": "code",
   "execution_count": null,
   "metadata": {},
   "outputs": [],
   "source": []
  }
 ],
 "metadata": {
  "kernelspec": {
   "display_name": "Python 3",
   "language": "python",
   "name": "python3"
  },
  "language_info": {
   "codemirror_mode": {
    "name": "ipython",
    "version": 3
   },
   "file_extension": ".py",
   "mimetype": "text/x-python",
   "name": "python",
   "nbconvert_exporter": "python",
   "pygments_lexer": "ipython3",
   "version": "3.6.4"
  }
 },
 "nbformat": 4,
 "nbformat_minor": 2
}
