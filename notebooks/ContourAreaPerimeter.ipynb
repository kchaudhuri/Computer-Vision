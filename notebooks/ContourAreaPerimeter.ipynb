{
 "cells": [
  {
   "cell_type": "code",
   "execution_count": 1,
   "metadata": {},
   "outputs": [],
   "source": [
    "import numpy as np\n",
    "import cv2\n"
   ]
  },
  {
   "cell_type": "code",
   "execution_count": null,
   "metadata": {},
   "outputs": [
    {
     "name": "stdout",
     "output_type": "stream",
     "text": [
      "Area: 86.5, perimeter: 45.55634891986847\n",
      "Area: 959.5, perimeter: 251.8406196832657\n",
      "Area: 13091.5, perimeter: 754.0416301488876\n",
      "Area: 10069.5, perimeter: 401.41421353816986\n",
      "Area: 7780.0, perimeter: 329.22034430503845\n",
      "Area: 4160.0, perimeter: 258.0\n",
      "Area: 1672.0, perimeter: 160.48528122901917\n",
      "Area: 14515.0, perimeter: 1225.768675327301\n",
      "Area: 6357.0, perimeter: 446.9116872549057\n",
      "Area: 7718.0, perimeter: 484.8284270763397\n",
      "Area: 4592.5, perimeter: 502.0315263271332\n",
      "Area: 5014.0, perimeter: 357.2792183160782\n",
      "Area: 5019.0, perimeter: 444.3675308227539\n",
      "Area: 8829.0, perimeter: 450.5929263830185\n",
      "Area: 108.0, perimeter: 41.79898953437805\n",
      "Area: 551.5, perimeter: 93.41421353816986\n",
      "Area: 2707.5, perimeter: 194.75230765342712\n",
      "Area: 1644.5, perimeter: 152.1248904466629\n",
      "Area: 767.0, perimeter: 105.74011433124542\n",
      "Area: 3501.5, perimeter: 251.0710676908493\n",
      "Area: 8556.0, perimeter: 345.70562493801117\n",
      "Area: 8868.0, perimeter: 378.8284270763397\n",
      "Area: 865.0, perimeter: 185.4558435678482\n",
      "Area: 1482.0, perimeter: 244.16652035713196\n",
      "Area: 747.0, perimeter: 102.9116872549057\n",
      "Area: 1638.0, perimeter: 152.36753034591675\n",
      "Area: 1.0, perimeter: 4114.82842707634\n"
     ]
    }
   ],
   "source": [
    "img = cv2.imread('detect_blob.png',1)\n",
    "gray = cv2.cvtColor(img, cv2.COLOR_RGB2GRAY)\n",
    "thresh = cv2.adaptiveThreshold(gray, 255, cv2.ADAPTIVE_THRESH_GAUSSIAN_C, cv2.THRESH_BINARY, 115, 1)\n",
    "cv2.imshow(\"Binary\", thresh)\n",
    "\n",
    "_, contours, hierarchy = cv2.findContours(thresh, cv2.RETR_TREE, cv2.CHAIN_APPROX_SIMPLE)\n",
    "\n",
    "img2 = img.copy()\n",
    "index = -1\n",
    "thickness = 4\n",
    "color = (255, 0, 255)\n",
    "\n",
    "objects = np.zeros([img.shape[0], img.shape[1],3], 'uint8')\n",
    "for c in contours:\n",
    "    cv2.drawContours(objects, [c], -1, color, -1)\n",
    "\n",
    "    area = cv2.contourArea(c)\n",
    "    perimeter = cv2.arcLength(c, True)\n",
    "\n",
    "    M = cv2.moments(c)\n",
    "    cx = int( M['m10']/M['m00'])\n",
    "    cy = int( M['m01']/M['m00'])\n",
    "    cv2.circle(objects, (cx,cy), 4, (0,0,255), -1)\n",
    "\n",
    "    print(\"Area: {}, perimeter: {}\".format(area,perimeter))\n",
    "\n",
    "cv2.imshow(\"Contours\",objects)\n",
    "\n",
    "cv2.waitKey(0)\n",
    "cv2.destroyAllWindows()"
   ]
  },
  {
   "cell_type": "code",
   "execution_count": null,
   "metadata": {},
   "outputs": [],
   "source": []
  }
 ],
 "metadata": {
  "kernelspec": {
   "display_name": "Python 3",
   "language": "python",
   "name": "python3"
  },
  "language_info": {
   "codemirror_mode": {
    "name": "ipython",
    "version": 3
   },
   "file_extension": ".py",
   "mimetype": "text/x-python",
   "name": "python",
   "nbconvert_exporter": "python",
   "pygments_lexer": "ipython3",
   "version": "3.6.4"
  }
 },
 "nbformat": 4,
 "nbformat_minor": 2
}
